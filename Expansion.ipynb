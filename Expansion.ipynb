{
 "cells": [
  {
   "cell_type": "code",
   "execution_count": 12,
   "metadata": {},
   "outputs": [
    {
     "name": "stdout",
     "output_type": "stream",
     "text": [
      "0.8\n",
      "1.6666666666666667e-05\n"
     ]
    }
   ],
   "source": [
    "T0 = 26\n",
    "T1 = 90.0\n",
    "L0 = 0\n",
    "L1 =80\n",
    "\n",
    "DelL = 0.01*(L1 - L0)\n",
    "DelT = T1 - T0\n",
    "print(DelL)\n",
    "\n",
    "alpha = DelL / (750.0 * DelT )\n",
    "print(alpha)"
   ]
  },
  {
   "cell_type": "code",
   "execution_count": 13,
   "metadata": {},
   "outputs": [
    {
     "name": "stdout",
     "output_type": "stream",
     "text": [
      "34.40860215053765 %\n"
     ]
    }
   ],
   "source": [
    "steel = 12.4*(1e-06)\n",
    "Alu = 23.4*(1e-06)\n",
    "Brass = 17.6*(1e-06)\n",
    "\n",
    "val = steel\n",
    "\n",
    "print( 100*(alpha - val) / val,'%')"
   ]
  },
  {
   "cell_type": "code",
   "execution_count": null,
   "metadata": {},
   "outputs": [],
   "source": []
  }
 ],
 "metadata": {
  "kernelspec": {
   "display_name": "Python 3",
   "language": "python",
   "name": "python3"
  },
  "language_info": {
   "codemirror_mode": {
    "name": "ipython",
    "version": 3
   },
   "file_extension": ".py",
   "mimetype": "text/x-python",
   "name": "python",
   "nbconvert_exporter": "python",
   "pygments_lexer": "ipython3",
   "version": "3.6.8"
  }
 },
 "nbformat": 4,
 "nbformat_minor": 2
}
